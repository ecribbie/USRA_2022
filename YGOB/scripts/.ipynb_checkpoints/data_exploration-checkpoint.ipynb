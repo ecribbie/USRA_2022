{
 "cells": [
  {
   "cell_type": "markdown",
   "id": "522fa8ca",
   "metadata": {},
   "source": [
    "# YGOB Data Exploration\n",
    "\n",
    "\n"
   ]
  },
  {
   "cell_type": "code",
   "execution_count": 36,
   "id": "2722f476",
   "metadata": {},
   "outputs": [],
   "source": [
    "import functions as f\n",
    "from importlib import reload\n",
    "reload(f)\n",
    "\n",
    "Anc=f.import_ancestor('http://ygob.ucd.ie/ygob/data/v7-Aug2012/Ancestor_genome.tab')\n",
    "Cglabrata=f.import_species('http://ygob.ucd.ie/ygob/data/v7-Aug2012/Cglabrata_genome.tab')\n",
    "Ecymbalariae=f.import_species('http://ygob.ucd.ie/ygob/data/v7-Aug2012/Ecymbalariae_genome.tab')\n",
    "Egossypii=f.import_species('http://ygob.ucd.ie/ygob/data/v7-Aug2012/Egossypii_genome.tab')\n",
    "Kafricana=f.import_species('http://ygob.ucd.ie/ygob/data/v7-Aug2012/Kafricana_genome.tab')\n",
    "Klactis=f.import_species('http://ygob.ucd.ie/ygob/data/v7-Aug2012/Klactis_genome.tab')\n",
    "Knaganishii=f.import_species('http://ygob.ucd.ie/ygob/data/v7-Aug2012/Knaganishii_genome.tab')\n",
    "Lkluyveri=f.import_species('http://ygob.ucd.ie/ygob/data/v7-Aug2012/Lkluyveri_genome.tab')\n",
    "Lthermotolerans=f.import_species('http://ygob.ucd.ie/ygob/data/v7-Aug2012/Lthermotolerans_genome.tab')\n",
    "Lwaltii=f.import_species('http://ygob.ucd.ie/ygob/data/v7-Aug2012/Lwaltii_genome.tab')\n",
    "Ncastallii=f.import_species('http://ygob.ucd.ie/ygob/data/v7-Aug2012/Ncastellii_genome.tab')\n",
    "Ndairenensis=f.import_species('http://ygob.ucd.ie/ygob/data/v7-Aug2012/Ndairenensis_genome.tab')\n",
    "Scerevisiae=f.import_species('http://ygob.ucd.ie/ygob/data/v7-Aug2012/Scerevisiae_genome.tab')\n",
    "Skudriavzevii=f.import_species('http://ygob.ucd.ie/ygob/data/v7-Aug2012/Skudriavzevii_genome.tab')\n",
    "Smikitae=f.import_species('http://ygob.ucd.ie/ygob/data/v7-Aug2012/Smikatae_genome.tab')\n",
    "Suvarum=f.import_species('http://ygob.ucd.ie/ygob/data/v7-Aug2012/Suvarum_genome.tab')\n",
    "Tblattae=f.import_species('http://ygob.ucd.ie/ygob/data/v7-Aug2012/Tblattae_genome.tab')\n",
    "Tdelbrueckii=f.import_species('http://ygob.ucd.ie/ygob/data/v7-Aug2012/Tdelbrueckii_genome.tab')\n",
    "Tphaffii=f.import_species('http://ygob.ucd.ie/ygob/data/v7-Aug2012/Tphaffii_genome.tab')\n",
    "Vpolyspora=f.import_species('http://ygob.ucd.ie/ygob/data/v7-Aug2012/Vpolyspora_genome.tab')\n",
    "Zrouxii=f.import_species('http://ygob.ucd.ie/ygob/data/v7-Aug2012/Zrouxii_genome.tab')\n",
    "pillars=f.pillar_filter('http://ygob.ucd.ie/ygob/data/v7-Aug2012/Pillars.tab','http://ygob.ucd.ie/ygob/data/v7-Aug2012/AA.fsa')\n",
    "\n",
    "\n"
   ]
  },
  {
   "cell_type": "markdown",
   "id": "39fbeac7",
   "metadata": {},
   "source": [
    "### Basic Data check"
   ]
  },
  {
   "cell_type": "code",
   "execution_count": 37,
   "id": "1fa0d163",
   "metadata": {},
   "outputs": [
    {
     "name": "stdout",
     "output_type": "stream",
     "text": [
      "12597\n"
     ]
    }
   ],
   "source": [
    "print(len(pillars))"
   ]
  },
  {
   "cell_type": "code",
   "execution_count": null,
   "id": "0fd9b1b3",
   "metadata": {},
   "outputs": [],
   "source": []
  }
 ],
 "metadata": {
  "kernelspec": {
   "display_name": "Python 3 (ipykernel)",
   "language": "python",
   "name": "python3"
  },
  "language_info": {
   "codemirror_mode": {
    "name": "ipython",
    "version": 3
   },
   "file_extension": ".py",
   "mimetype": "text/x-python",
   "name": "python",
   "nbconvert_exporter": "python",
   "pygments_lexer": "ipython3",
   "version": "3.10.4"
  }
 },
 "nbformat": 4,
 "nbformat_minor": 5
}
