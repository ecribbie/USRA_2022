{
 "cells": [
  {
   "cell_type": "markdown",
   "id": "522fa8ca",
   "metadata": {},
   "source": [
    "# YGOB Data Exploration\n",
    "\n",
    "\n"
   ]
  },
  {
   "cell_type": "markdown",
   "id": "983e38ea",
   "metadata": {},
   "source": [
    "### Import required packages"
   ]
  },
  {
   "cell_type": "code",
   "execution_count": 65,
   "id": "c1cd1674",
   "metadata": {},
   "outputs": [],
   "source": [
    "import functions as f\n",
    "import pandas as pd\n",
    "import matplotlib.pyplot\n",
    "from importlib import reload\n",
    "from copy import deepcopy\n",
    "reload(f);"
   ]
  },
  {
   "cell_type": "markdown",
   "id": "20850a92",
   "metadata": {},
   "source": [
    "### Read in associated files"
   ]
  },
  {
   "cell_type": "code",
   "execution_count": 66,
   "id": "2722f476",
   "metadata": {},
   "outputs": [],
   "source": [
    "Anc=f.import_ancestor('../species_genome_tabs/Anc_genome.txt')\n",
    "Cglabrata=f.import_species('../species_genome_tabs/Cglabrata_genome.txt',\"Cglabrata\")\n",
    "Ecymbalariae=f.import_species('../species_genome_tabs/Ecymbalariae_genome.txt',\"Ecymbalariae\")\n",
    "Egossypii=f.import_species('../species_genome_tabs/Egossypii_genome.txt',\"Egossypii\")\n",
    "Kafricana=f.import_species('../species_genome_tabs/Kafricana_genome.txt',\"Kafricana\")\n",
    "Klactis=f.import_species('../species_genome_tabs/Klactis_genome.txt',\"Klactis\")\n",
    "Knaganishii=f.import_species('../species_genome_tabs/Knaganishii_genome.txt',\"Knaganishii\")\n",
    "Lkluyveri=f.import_species('../species_genome_tabs/Lkluyveri_genome.txt',\"Lkluyveri\")\n",
    "Lthermotolerans=f.import_species('../species_genome_tabs/Lthermotolerans_genome.txt',\"Lthermotolerans\")\n",
    "Lwaltii=f.import_species('../species_genome_tabs/Lwaltii_genome.txt',\"Lwaltii\")\n",
    "Ncastallii=f.import_species('../species_genome_tabs/Ncastellii_genome.txt',\"Ncastallii\")\n",
    "Ndairenensis=f.import_species('../species_genome_tabs/Ndairenensis_genome.txt',\"Ndairenensis\")\n",
    "Scerevisiae=f.import_species('../species_genome_tabs/Scerevisiae_genome.txt',\"Scerevisiae\")\n",
    "Skudriavzevii=f.import_species('../species_genome_tabs/Skudriavzevii_genome.txt',\"Skudriavzevii\")\n",
    "Smikitae=f.import_species('../species_genome_tabs/Smikatae_genome.txt',\"Smikitae\")\n",
    "Suvarum=f.import_species('../species_genome_tabs/Smikatae_genome.txt',\"Suvarum\")\n",
    "Tblattae=f.import_species('../species_genome_tabs/Tblattae_genome.txt',\"Tblattae\")\n",
    "Tdelbrueckii=f.import_species('../species_genome_tabs/Tdelbrueckii_genome.txt',\"Tdelbrueckii\")\n",
    "Tphaffii=f.import_species('../species_genome_tabs/Tphaffii_genome.txt',\"Tphaffii\")\n",
    "Vpolyspora=f.import_species('../species_genome_tabs/Vpolyspora_genome.txt',\"Vpolyspora\")\n",
    "Zrouxii=f.import_species('../species_genome_tabs/Zrouxii_genome.txt',\"Zrouxii\")\n",
    "\n",
    "\n"
   ]
  },
  {
   "cell_type": "markdown",
   "id": "e1069c40",
   "metadata": {},
   "source": [
    "The species variables are a dictionary of dictionaries where each the keys in the main dictionary are \"name\" and each gene. The name value is the name of the species and the gene dictionaries have keys dir, start, end, whcih hold the direction, and start and end coordinates."
   ]
  },
  {
   "cell_type": "code",
   "execution_count": 67,
   "id": "411b824c",
   "metadata": {},
   "outputs": [],
   "source": [
    "pillars=f.pillar_filter('../Additional_files/pillars.txt','../Additional_files/AA.txt')"
   ]
  },
  {
   "cell_type": "code",
   "execution_count": 68,
   "id": "4451d2cd",
   "metadata": {},
   "outputs": [],
   "source": [
    "species=[Cglabrata,Ecymbalariae,Egossypii,Kafricana,Klactis,Knaganishii,Lkluyveri,Lthermotolerans,Lwaltii,Ncastallii,Ndairenensis,Scerevisiae,Skudriavzevii,Smikitae,Suvarum,Tblattae,Tdelbrueckii,Tphaffii,Vpolyspora,Zrouxii]\n",
    "species_keep=[Cglabrata,Ecymbalariae,Egossypii,Kafricana,Klactis,Knaganishii,Lkluyveri,Lthermotolerans,Lwaltii,Ncastallii,Ndairenensis,Scerevisiae,Skudriavzevii,Smikitae,Suvarum,Tblattae,Tdelbrueckii,Tphaffii,Vpolyspora,Zrouxii]\n",
    "specie_names=[]\n",
    "specie_keep_names=[]\n",
    "for specie in species: specie_names.append(specie['name'])\n",
    "for specie in species_keep: specie_keep_names.append(specie['name'])"
   ]
  },
  {
   "cell_type": "markdown",
   "id": "6e719d32",
   "metadata": {},
   "source": [
    "The following is used to filter out a sublist of species we want to keep"
   ]
  },
  {
   "cell_type": "code",
   "execution_count": 69,
   "id": "153a451f",
   "metadata": {},
   "outputs": [],
   "source": [
    "inter=deepcopy(species_keep)\n",
    "for i in range(len(inter)-1,-1,-1): \n",
    "    if inter[i]['name'] in [\"Vpolyspora\",\"Suvarum\",\"Smikitae\",\"Skudriavzevii\",\"Lwaltii\"]:\n",
    "        del species_keep[i]\n",
    "        del specie_keep_names[i]\n",
    "del(inter)\n",
    "\n",
    "pillars_keep=f.pillar_resort(species_keep,pillars)"
   ]
  },
  {
   "cell_type": "markdown",
   "id": "db16c1fb",
   "metadata": {},
   "source": [
    "General information that may be helpful to get a rough idea of the data size"
   ]
  },
  {
   "cell_type": "code",
   "execution_count": 70,
   "id": "05a77cdc",
   "metadata": {},
   "outputs": [
    {
     "name": "stdout",
     "output_type": "stream",
     "text": [
      "The number of total genes is: 120415\n",
      "The number of species is: 20\n",
      "The total number of families is: 12597\n",
      "The number of families with a single gene/number of genes with no ohnologs is: 6939\n"
     ]
    }
   ],
   "source": [
    "count=0\n",
    "for i in species: \n",
    "    count=count+len(i)-1\n",
    "print(\"The number of total genes is:\",count)\n",
    "print(\"The number of species is:\",len(species))\n",
    "print(\"The total number of families is:\",len(pillars))\n",
    "new = {key: pillars[key]  for key in pillars.keys() if len(pillars[key]['genes'])>1}\n",
    "print(\"The number of families with a single gene/number of genes with no ohnologs is:\", len(pillars)-len(new))"
   ]
  },
  {
   "cell_type": "markdown",
   "id": "39fbeac7",
   "metadata": {},
   "source": [
    "## General species info"
   ]
  },
  {
   "cell_type": "markdown",
   "id": "599ba3de",
   "metadata": {},
   "source": [
    "We can see in the following two plots the distribution of family sizes. The second plot has the singular families, those with only one gene, removed for a better view of the distribution of the other sizes."
   ]
  },
  {
   "cell_type": "code",
   "execution_count": 71,
   "id": "18d81391",
   "metadata": {},
   "outputs": [
    {
     "data": {
      "image/png": "[encoded data removed]",
      "text/plain": [
       "<Figure size 432x288 with 1 Axes>"
      ]
     },
     "metadata": {
      "needs_background": "light"
     },
     "output_type": "display_data"
    }
   ],
   "source": [
    "fig, ax=matplotlib.pyplot.subplots()\n",
    "bar=ax.bar(list(range(1,21)),f.family_lengths(f.pillar_resort(species,pillars)))\n",
    "ax.set_xticks(list(range(1,21)));\n",
    "ax.set_xlabel(\"Number of genes in family\");\n",
    "ax.set_ylabel(\"Number of families\");\n",
    "ax.set_title(\"Distribution of family sizes\");"
   ]
  },
  {
   "cell_type": "code",
   "execution_count": 72,
   "id": "84f5bdc1",
   "metadata": {
    "scrolled": true
   },
   "outputs": [
    {
     "data": {
      "image/png": "[encoded data removed]",
      "text/plain": [
       "<Figure size 432x288 with 1 Axes>"
      ]
     },
     "metadata": {
      "needs_background": "light"
     },
     "output_type": "display_data"
    }
   ],
   "source": [
    "new=f.pillar_resort(species,pillars,2)\n",
    "lengths=f.family_lengths(new)\n",
    "\n",
    "\n",
    "fig, ax=matplotlib.pyplot.subplots()\n",
    "bar=ax.bar(list(range(1,21)),lengths)\n",
    "ax.set_xticks(list(range(1,21)));\n",
    "ax.set_xlabel(\"Number of genes in family\");\n",
    "ax.set_ylabel(\"Number of families\");\n",
    "ax.set_title(\"Distribution of family sizes without singular families\");"
   ]
  },
  {
   "cell_type": "code",
   "execution_count": 73,
   "id": "0f1a5265",
   "metadata": {},
   "outputs": [
    {
     "data": {
      "image/png": "[encoded data removed]",
      "text/plain": [
       "<Figure size 432x288 with 1 Axes>"
      ]
     },
     "metadata": {
      "needs_background": "light"
     },
     "output_type": "display_data"
    }
   ],
   "source": [
    "new = f.pillar_resort(species_keep,pillars,2)\n",
    "lengths=f.family_lengths(new)\n",
    "\n",
    "fig, ax=matplotlib.pyplot.subplots()\n",
    "bar=ax.bar(list(range(1,21)),lengths)\n",
    "ax.set_xticks(list(range(1,21)));\n",
    "ax.set_xlabel(\"Number of genes in family\");\n",
    "ax.set_ylabel(\"Number of families\");\n",
    "ax.set_title(\"Distribution of non singular family sizes of kept species\");"
   ]
  },
  {
   "cell_type": "code",
   "execution_count": 75,
   "id": "c831c11b",
   "metadata": {},
   "outputs": [
    {
     "name": "stdout",
     "output_type": "stream",
     "text": [
      "4435\n",
      "3777\n"
     ]
    }
   ],
   "source": [
    "print(len(f.pillar_resort(species,pillars,16)))\n",
    "print(len(f.pillar_resort(species_keep,pillars,16)))"
   ]
  },
  {
   "cell_type": "markdown",
   "id": "07b46681",
   "metadata": {},
   "source": [
    "The following plot shows the fragmentation, number of different segments (chromosome/contig/scaffolds)."
   ]
  },
  {
   "cell_type": "code",
   "execution_count": 76,
   "id": "8b2b23a5",
   "metadata": {},
   "outputs": [
    {
     "data": {
      "image/png": "[encoded data removed]",
      "text/plain": [
       "<Figure size 432x288 with 1 Axes>"
      ]
     },
     "metadata": {
      "needs_background": "light"
     },
     "output_type": "display_data"
    }
   ],
   "source": [
    "fragmentation=f.species_fragmentation(species)\n",
    "\n",
    "fig, ax=matplotlib.pyplot.subplots()\n",
    "\n",
    "matplotlib.pyplot.xticks(rotation=90)\n",
    "\n",
    "bar=ax.bar(list(range(len(species))),fragmentation,tick_label=specie_names)\n",
    "ax.set_xlabel(\"Species\");\n",
    "ax.set_ylabel(\"Number of fragments\");\n",
    "ax.set_title(\"Distribution of fragmentation of species' genomes\");\n"
   ]
  },
  {
   "cell_type": "code",
   "execution_count": 77,
   "id": "1c60a4d1",
   "metadata": {},
   "outputs": [
    {
     "data": {
      "image/png": "[encoded data removed]",
      "text/plain": [
       "<Figure size 432x288 with 1 Axes>"
      ]
     },
     "metadata": {
      "needs_background": "light"
     },
     "output_type": "display_data"
    }
   ],
   "source": [
    "fragmentation=f.species_fragmentation(species_keep)\n",
    "\n",
    "fig, ax=matplotlib.pyplot.subplots()\n",
    "matplotlib.pyplot.xticks(rotation=90)\n",
    "bar=ax.bar(list(range(len(species_keep))),fragmentation,tick_label=specie_keep_names)\n",
    "ax.set_xlabel(\"Species kept\");\n",
    "ax.set_ylabel(\"Number of fragments\");\n",
    "ax.set_title(\"Distribution of fragmentation of kept species' genomes\");"
   ]
  },
  {
   "cell_type": "markdown",
   "id": "08ad10ae",
   "metadata": {},
   "source": [
    "The following plot shows for each specie the number of non singular families that contain a gene from the given specie."
   ]
  },
  {
   "cell_type": "code",
   "execution_count": 78,
   "id": "74c30d07",
   "metadata": {},
   "outputs": [
    {
     "data": {
      "image/png": "[encoded data removed]",
      "text/plain": [
       "<Figure size 432x288 with 1 Axes>"
      ]
     },
     "metadata": {
      "needs_background": "light"
     },
     "output_type": "display_data"
    }
   ],
   "source": [
    "associations=f.species_associations(species,pillars)\n",
    "\n",
    "fig, ax=matplotlib.pyplot.subplots()\n",
    "matplotlib.pyplot.xticks(rotation=90)\n",
    "bar=ax.bar(list(range(len(species))),associations,tick_label=specie_names)\n",
    "ax.set_xlabel(\"Species\");\n",
    "ax.set_ylabel(\"Number of non singular families containing a gene\");\n",
    "ax.set_title(\"Distribution of gene association in non singular families\");\n",
    "\n",
    "\n"
   ]
  },
  {
   "cell_type": "markdown",
   "id": "aeece69c",
   "metadata": {},
   "source": [
    "## Info on species pairs"
   ]
  },
  {
   "cell_type": "markdown",
   "id": "882866b5",
   "metadata": {},
   "source": [
    "The following plot shows how many gene pairs each specie has with Saccharomyces Cerevisia.\n",
    "\n",
    "Pairs are counted as the number of families with a gene from each species, if there are two copies from each then that is counted as 2 families and same for 3 and so on. If there is only 1 gene from one specie and 2 from the other in the family this only counts as one pair. "
   ]
  },
  {
   "cell_type": "code",
   "execution_count": 79,
   "id": "eebd9b42",
   "metadata": {},
   "outputs": [
    {
     "data": {
      "image/png": "[encoded data removed]",
      "text/plain": [
       "<Figure size 432x288 with 1 Axes>"
      ]
     },
     "metadata": {
      "needs_background": "light"
     },
     "output_type": "display_data"
    }
   ],
   "source": [
    "new=deepcopy(species)\n",
    "new.pop(specie_names.index(\"Scerevisiae\"))\n",
    "Scer_matches=[f.species_pairs(x,Scerevisiae,pillars) for x in new]\n",
    "names=deepcopy(specie_names)\n",
    "ind=specie_names.index(\"Scerevisiae\")\n",
    "names.pop(ind)\n",
    "\n",
    "\n",
    "fig, ax=matplotlib.pyplot.subplots()\n",
    "matplotlib.pyplot.xticks(rotation=90)\n",
    "bar=ax.bar(list(range(len(names))),Scer_matches,tick_label=names)\n",
    "ax.set_xlabel(\"Species\");\n",
    "ax.set_ylabel(\"Number of gene pairs\");\n",
    "ax.set_title(\"Distribution of gene pairs with Scerevisiae\");\n",
    "\n",
    "\n"
   ]
  },
  {
   "cell_type": "code",
   "execution_count": 80,
   "id": "11c77369",
   "metadata": {},
   "outputs": [
    {
     "data": {
      "image/png": "[encoded data removed]",
      "text/plain": [
       "<Figure size 432x288 with 1 Axes>"
      ]
     },
     "metadata": {
      "needs_background": "light"
     },
     "output_type": "display_data"
    }
   ],
   "source": [
    "new=deepcopy(species_keep)\n",
    "new.pop(specie_keep_names.index(\"Scerevisiae\"))\n",
    "Scer_matches=[f.species_pairs(x,Scerevisiae,pillars) for x in new]\n",
    "names=deepcopy(specie_keep_names)\n",
    "ind=specie_names.index(\"Scerevisiae\")\n",
    "names.pop(ind)\n",
    "\n",
    "\n",
    "fig, ax=matplotlib.pyplot.subplots()\n",
    "matplotlib.pyplot.xticks(rotation=90)\n",
    "bar=ax.bar(list(range(len(names))),Scer_matches,tick_label=names)\n",
    "ax.set_xlabel(\"Species kept\");\n",
    "ax.set_ylabel(\"Number of gene pairs\");\n",
    "ax.set_title(\"Distribution of gene pairs with Scerevisiae of kept species\");\n"
   ]
  },
  {
   "cell_type": "markdown",
   "id": "c8af4a3d",
   "metadata": {},
   "source": [
    "### Matches Table\n",
    "The following table shows the number of families in which both species have a gene, in the case that a family has two genes from each species this is counted as two families seeing as when families are reconcilled they will end up as two distinct families. When we have the same species the value represents the number of families in which we have more than one gene from the associated species."
   ]
  },
  {
   "cell_type": "code",
   "execution_count": 81,
   "id": "cd5689e3",
   "metadata": {},
   "outputs": [
    {
     "data": {
      "text/html": [
       "<div>\n",
       "<style scoped>\n",
       "    .dataframe tbody tr th:only-of-type {\n",
       "        vertical-align: middle;\n",
       "    }\n",
       "\n",
       "    .dataframe tbody tr th {\n",
       "        vertical-align: top;\n",
       "    }\n",
       "\n",
       "    .dataframe thead th {\n",
       "        text-align: right;\n",
       "    }\n",
       "</style>\n",
       "<table border=\"1\" class=\"dataframe\">\n",
       "  <thead>\n",
       "    <tr style=\"text-align: right;\">\n",
       "      <th></th>\n",
       "      <th>Cglabrata</th>\n",
       "      <th>Ecymbalariae</th>\n",
       "      <th>Egossypii</th>\n",
       "      <th>Kafricana</th>\n",
       "      <th>Klactis</th>\n",
       "      <th>Knaganishii</th>\n",
       "      <th>Lkluyveri</th>\n",
       "      <th>Lthermotolerans</th>\n",
       "      <th>Lwaltii</th>\n",
       "      <th>Ncastallii</th>\n",
       "      <th>Ndairenensis</th>\n",
       "      <th>Scerevisiae</th>\n",
       "      <th>Skudriavzevii</th>\n",
       "      <th>Smikitae</th>\n",
       "      <th>Suvarum</th>\n",
       "      <th>Tblattae</th>\n",
       "      <th>Tdelbrueckii</th>\n",
       "      <th>Tphaffii</th>\n",
       "      <th>Vpolyspora</th>\n",
       "      <th>Zrouxii</th>\n",
       "    </tr>\n",
       "  </thead>\n",
       "  <tbody>\n",
       "    <tr>\n",
       "      <th>Cglabrata</th>\n",
       "      <td>393</td>\n",
       "      <td>4041</td>\n",
       "      <td>4303</td>\n",
       "      <td>4704</td>\n",
       "      <td>4434</td>\n",
       "      <td>4701</td>\n",
       "      <td>4505</td>\n",
       "      <td>4439</td>\n",
       "      <td>4406</td>\n",
       "      <td>4789</td>\n",
       "      <td>4731</td>\n",
       "      <td>4843</td>\n",
       "      <td>4830</td>\n",
       "      <td>4831</td>\n",
       "      <td>4831</td>\n",
       "      <td>4527</td>\n",
       "      <td>4466</td>\n",
       "      <td>4618</td>\n",
       "      <td>4609</td>\n",
       "      <td>4468</td>\n",
       "    </tr>\n",
       "    <tr>\n",
       "      <th>Ecymbalariae</th>\n",
       "      <td>4041</td>\n",
       "      <td>0</td>\n",
       "      <td>4272</td>\n",
       "      <td>4010</td>\n",
       "      <td>4190</td>\n",
       "      <td>4012</td>\n",
       "      <td>4270</td>\n",
       "      <td>4186</td>\n",
       "      <td>4145</td>\n",
       "      <td>4069</td>\n",
       "      <td>4042</td>\n",
       "      <td>4094</td>\n",
       "      <td>4085</td>\n",
       "      <td>4086</td>\n",
       "      <td>4086</td>\n",
       "      <td>3953</td>\n",
       "      <td>4115</td>\n",
       "      <td>4034</td>\n",
       "      <td>4036</td>\n",
       "      <td>4137</td>\n",
       "    </tr>\n",
       "    <tr>\n",
       "      <th>Egossypii</th>\n",
       "      <td>4303</td>\n",
       "      <td>4272</td>\n",
       "      <td>0</td>\n",
       "      <td>4264</td>\n",
       "      <td>4458</td>\n",
       "      <td>4270</td>\n",
       "      <td>4551</td>\n",
       "      <td>4468</td>\n",
       "      <td>4415</td>\n",
       "      <td>4332</td>\n",
       "      <td>4299</td>\n",
       "      <td>4358</td>\n",
       "      <td>4348</td>\n",
       "      <td>4351</td>\n",
       "      <td>4351</td>\n",
       "      <td>4207</td>\n",
       "      <td>4386</td>\n",
       "      <td>4298</td>\n",
       "      <td>4297</td>\n",
       "      <td>4409</td>\n",
       "    </tr>\n",
       "    <tr>\n",
       "      <th>Kafricana</th>\n",
       "      <td>4704</td>\n",
       "      <td>4010</td>\n",
       "      <td>4264</td>\n",
       "      <td>504</td>\n",
       "      <td>4396</td>\n",
       "      <td>4824</td>\n",
       "      <td>4477</td>\n",
       "      <td>4401</td>\n",
       "      <td>4360</td>\n",
       "      <td>4861</td>\n",
       "      <td>4806</td>\n",
       "      <td>4849</td>\n",
       "      <td>4833</td>\n",
       "      <td>4843</td>\n",
       "      <td>4843</td>\n",
       "      <td>4521</td>\n",
       "      <td>4431</td>\n",
       "      <td>4599</td>\n",
       "      <td>4600</td>\n",
       "      <td>4433</td>\n",
       "    </tr>\n",
       "    <tr>\n",
       "      <th>Klactis</th>\n",
       "      <td>4434</td>\n",
       "      <td>4190</td>\n",
       "      <td>4458</td>\n",
       "      <td>4396</td>\n",
       "      <td>0</td>\n",
       "      <td>4417</td>\n",
       "      <td>4737</td>\n",
       "      <td>4639</td>\n",
       "      <td>4606</td>\n",
       "      <td>4478</td>\n",
       "      <td>4428</td>\n",
       "      <td>4501</td>\n",
       "      <td>4481</td>\n",
       "      <td>4488</td>\n",
       "      <td>4488</td>\n",
       "      <td>4309</td>\n",
       "      <td>4532</td>\n",
       "      <td>4412</td>\n",
       "      <td>4424</td>\n",
       "      <td>4564</td>\n",
       "    </tr>\n",
       "    <tr>\n",
       "      <th>Knaganishii</th>\n",
       "      <td>4701</td>\n",
       "      <td>4012</td>\n",
       "      <td>4270</td>\n",
       "      <td>4824</td>\n",
       "      <td>4417</td>\n",
       "      <td>457</td>\n",
       "      <td>4493</td>\n",
       "      <td>4420</td>\n",
       "      <td>4378</td>\n",
       "      <td>4871</td>\n",
       "      <td>4802</td>\n",
       "      <td>4835</td>\n",
       "      <td>4817</td>\n",
       "      <td>4830</td>\n",
       "      <td>4830</td>\n",
       "      <td>4499</td>\n",
       "      <td>4445</td>\n",
       "      <td>4593</td>\n",
       "      <td>4584</td>\n",
       "      <td>4449</td>\n",
       "    </tr>\n",
       "    <tr>\n",
       "      <th>Lkluyveri</th>\n",
       "      <td>4505</td>\n",
       "      <td>4270</td>\n",
       "      <td>4551</td>\n",
       "      <td>4477</td>\n",
       "      <td>4737</td>\n",
       "      <td>4493</td>\n",
       "      <td>0</td>\n",
       "      <td>4787</td>\n",
       "      <td>4724</td>\n",
       "      <td>4560</td>\n",
       "      <td>4512</td>\n",
       "      <td>4597</td>\n",
       "      <td>4583</td>\n",
       "      <td>4588</td>\n",
       "      <td>4588</td>\n",
       "      <td>4381</td>\n",
       "      <td>4647</td>\n",
       "      <td>4497</td>\n",
       "      <td>4506</td>\n",
       "      <td>4677</td>\n",
       "    </tr>\n",
       "    <tr>\n",
       "      <th>Lthermotolerans</th>\n",
       "      <td>4439</td>\n",
       "      <td>4186</td>\n",
       "      <td>4468</td>\n",
       "      <td>4401</td>\n",
       "      <td>4639</td>\n",
       "      <td>4420</td>\n",
       "      <td>4787</td>\n",
       "      <td>0</td>\n",
       "      <td>4794</td>\n",
       "      <td>4488</td>\n",
       "      <td>4439</td>\n",
       "      <td>4527</td>\n",
       "      <td>4510</td>\n",
       "      <td>4515</td>\n",
       "      <td>4515</td>\n",
       "      <td>4315</td>\n",
       "      <td>4578</td>\n",
       "      <td>4429</td>\n",
       "      <td>4436</td>\n",
       "      <td>4599</td>\n",
       "    </tr>\n",
       "    <tr>\n",
       "      <th>Lwaltii</th>\n",
       "      <td>4406</td>\n",
       "      <td>4145</td>\n",
       "      <td>4415</td>\n",
       "      <td>4360</td>\n",
       "      <td>4606</td>\n",
       "      <td>4378</td>\n",
       "      <td>4724</td>\n",
       "      <td>4794</td>\n",
       "      <td>0</td>\n",
       "      <td>4444</td>\n",
       "      <td>4396</td>\n",
       "      <td>4490</td>\n",
       "      <td>4476</td>\n",
       "      <td>4475</td>\n",
       "      <td>4475</td>\n",
       "      <td>4277</td>\n",
       "      <td>4532</td>\n",
       "      <td>4388</td>\n",
       "      <td>4392</td>\n",
       "      <td>4552</td>\n",
       "    </tr>\n",
       "    <tr>\n",
       "      <th>Ncastallii</th>\n",
       "      <td>4789</td>\n",
       "      <td>4069</td>\n",
       "      <td>4332</td>\n",
       "      <td>4861</td>\n",
       "      <td>4478</td>\n",
       "      <td>4871</td>\n",
       "      <td>4560</td>\n",
       "      <td>4488</td>\n",
       "      <td>4444</td>\n",
       "      <td>596</td>\n",
       "      <td>5108</td>\n",
       "      <td>4990</td>\n",
       "      <td>4962</td>\n",
       "      <td>4970</td>\n",
       "      <td>4970</td>\n",
       "      <td>4595</td>\n",
       "      <td>4507</td>\n",
       "      <td>4683</td>\n",
       "      <td>4693</td>\n",
       "      <td>4512</td>\n",
       "    </tr>\n",
       "    <tr>\n",
       "      <th>Ndairenensis</th>\n",
       "      <td>4731</td>\n",
       "      <td>4042</td>\n",
       "      <td>4299</td>\n",
       "      <td>4806</td>\n",
       "      <td>4428</td>\n",
       "      <td>4802</td>\n",
       "      <td>4512</td>\n",
       "      <td>4439</td>\n",
       "      <td>4396</td>\n",
       "      <td>5108</td>\n",
       "      <td>549</td>\n",
       "      <td>4901</td>\n",
       "      <td>4879</td>\n",
       "      <td>4887</td>\n",
       "      <td>4887</td>\n",
       "      <td>4545</td>\n",
       "      <td>4464</td>\n",
       "      <td>4641</td>\n",
       "      <td>4650</td>\n",
       "      <td>4465</td>\n",
       "    </tr>\n",
       "    <tr>\n",
       "      <th>Scerevisiae</th>\n",
       "      <td>4843</td>\n",
       "      <td>4094</td>\n",
       "      <td>4358</td>\n",
       "      <td>4849</td>\n",
       "      <td>4501</td>\n",
       "      <td>4835</td>\n",
       "      <td>4597</td>\n",
       "      <td>4527</td>\n",
       "      <td>4490</td>\n",
       "      <td>4990</td>\n",
       "      <td>4901</td>\n",
       "      <td>547</td>\n",
       "      <td>5362</td>\n",
       "      <td>5358</td>\n",
       "      <td>5358</td>\n",
       "      <td>4596</td>\n",
       "      <td>4539</td>\n",
       "      <td>4693</td>\n",
       "      <td>4704</td>\n",
       "      <td>4551</td>\n",
       "    </tr>\n",
       "    <tr>\n",
       "      <th>Skudriavzevii</th>\n",
       "      <td>4830</td>\n",
       "      <td>4085</td>\n",
       "      <td>4348</td>\n",
       "      <td>4833</td>\n",
       "      <td>4481</td>\n",
       "      <td>4817</td>\n",
       "      <td>4583</td>\n",
       "      <td>4510</td>\n",
       "      <td>4476</td>\n",
       "      <td>4962</td>\n",
       "      <td>4879</td>\n",
       "      <td>5362</td>\n",
       "      <td>546</td>\n",
       "      <td>5388</td>\n",
       "      <td>5388</td>\n",
       "      <td>4580</td>\n",
       "      <td>4525</td>\n",
       "      <td>4676</td>\n",
       "      <td>4681</td>\n",
       "      <td>4536</td>\n",
       "    </tr>\n",
       "    <tr>\n",
       "      <th>Smikitae</th>\n",
       "      <td>4831</td>\n",
       "      <td>4086</td>\n",
       "      <td>4351</td>\n",
       "      <td>4843</td>\n",
       "      <td>4488</td>\n",
       "      <td>4830</td>\n",
       "      <td>4588</td>\n",
       "      <td>4515</td>\n",
       "      <td>4475</td>\n",
       "      <td>4970</td>\n",
       "      <td>4887</td>\n",
       "      <td>5358</td>\n",
       "      <td>5388</td>\n",
       "      <td>545</td>\n",
       "      <td>545</td>\n",
       "      <td>4587</td>\n",
       "      <td>4530</td>\n",
       "      <td>4688</td>\n",
       "      <td>4695</td>\n",
       "      <td>4542</td>\n",
       "    </tr>\n",
       "    <tr>\n",
       "      <th>Suvarum</th>\n",
       "      <td>4831</td>\n",
       "      <td>4086</td>\n",
       "      <td>4351</td>\n",
       "      <td>4843</td>\n",
       "      <td>4488</td>\n",
       "      <td>4830</td>\n",
       "      <td>4588</td>\n",
       "      <td>4515</td>\n",
       "      <td>4475</td>\n",
       "      <td>4970</td>\n",
       "      <td>4887</td>\n",
       "      <td>5358</td>\n",
       "      <td>5388</td>\n",
       "      <td>545</td>\n",
       "      <td>545</td>\n",
       "      <td>4587</td>\n",
       "      <td>4530</td>\n",
       "      <td>4688</td>\n",
       "      <td>4695</td>\n",
       "      <td>4542</td>\n",
       "    </tr>\n",
       "    <tr>\n",
       "      <th>Tblattae</th>\n",
       "      <td>4527</td>\n",
       "      <td>3953</td>\n",
       "      <td>4207</td>\n",
       "      <td>4521</td>\n",
       "      <td>4309</td>\n",
       "      <td>4499</td>\n",
       "      <td>4381</td>\n",
       "      <td>4315</td>\n",
       "      <td>4277</td>\n",
       "      <td>4595</td>\n",
       "      <td>4545</td>\n",
       "      <td>4596</td>\n",
       "      <td>4580</td>\n",
       "      <td>4587</td>\n",
       "      <td>4587</td>\n",
       "      <td>481</td>\n",
       "      <td>4338</td>\n",
       "      <td>4562</td>\n",
       "      <td>4562</td>\n",
       "      <td>4345</td>\n",
       "    </tr>\n",
       "    <tr>\n",
       "      <th>Tdelbrueckii</th>\n",
       "      <td>4466</td>\n",
       "      <td>4115</td>\n",
       "      <td>4386</td>\n",
       "      <td>4431</td>\n",
       "      <td>4532</td>\n",
       "      <td>4445</td>\n",
       "      <td>4647</td>\n",
       "      <td>4578</td>\n",
       "      <td>4532</td>\n",
       "      <td>4507</td>\n",
       "      <td>4464</td>\n",
       "      <td>4539</td>\n",
       "      <td>4525</td>\n",
       "      <td>4530</td>\n",
       "      <td>4530</td>\n",
       "      <td>4338</td>\n",
       "      <td>0</td>\n",
       "      <td>4458</td>\n",
       "      <td>4459</td>\n",
       "      <td>4623</td>\n",
       "    </tr>\n",
       "    <tr>\n",
       "      <th>Tphaffii</th>\n",
       "      <td>4618</td>\n",
       "      <td>4034</td>\n",
       "      <td>4298</td>\n",
       "      <td>4599</td>\n",
       "      <td>4412</td>\n",
       "      <td>4593</td>\n",
       "      <td>4497</td>\n",
       "      <td>4429</td>\n",
       "      <td>4388</td>\n",
       "      <td>4683</td>\n",
       "      <td>4641</td>\n",
       "      <td>4693</td>\n",
       "      <td>4676</td>\n",
       "      <td>4688</td>\n",
       "      <td>4688</td>\n",
       "      <td>4562</td>\n",
       "      <td>4458</td>\n",
       "      <td>454</td>\n",
       "      <td>4846</td>\n",
       "      <td>4463</td>\n",
       "    </tr>\n",
       "    <tr>\n",
       "      <th>Vpolyspora</th>\n",
       "      <td>4609</td>\n",
       "      <td>4036</td>\n",
       "      <td>4297</td>\n",
       "      <td>4600</td>\n",
       "      <td>4424</td>\n",
       "      <td>4584</td>\n",
       "      <td>4506</td>\n",
       "      <td>4436</td>\n",
       "      <td>4392</td>\n",
       "      <td>4693</td>\n",
       "      <td>4650</td>\n",
       "      <td>4704</td>\n",
       "      <td>4681</td>\n",
       "      <td>4695</td>\n",
       "      <td>4695</td>\n",
       "      <td>4562</td>\n",
       "      <td>4459</td>\n",
       "      <td>4846</td>\n",
       "      <td>495</td>\n",
       "      <td>4475</td>\n",
       "    </tr>\n",
       "    <tr>\n",
       "      <th>Zrouxii</th>\n",
       "      <td>4468</td>\n",
       "      <td>4137</td>\n",
       "      <td>4409</td>\n",
       "      <td>4433</td>\n",
       "      <td>4564</td>\n",
       "      <td>4449</td>\n",
       "      <td>4677</td>\n",
       "      <td>4599</td>\n",
       "      <td>4552</td>\n",
       "      <td>4512</td>\n",
       "      <td>4465</td>\n",
       "      <td>4551</td>\n",
       "      <td>4536</td>\n",
       "      <td>4542</td>\n",
       "      <td>4542</td>\n",
       "      <td>4345</td>\n",
       "      <td>4623</td>\n",
       "      <td>4463</td>\n",
       "      <td>4475</td>\n",
       "      <td>0</td>\n",
       "    </tr>\n",
       "  </tbody>\n",
       "</table>\n",
       "</div>"
      ],
      "text/plain": [
       "                 Cglabrata  Ecymbalariae  Egossypii  Kafricana  Klactis  \\\n",
       "Cglabrata              393          4041       4303       4704     4434   \n",
       "Ecymbalariae          4041             0       4272       4010     4190   \n",
       "Egossypii             4303          4272          0       4264     4458   \n",
       "Kafricana             4704          4010       4264        504     4396   \n",
       "Klactis               4434          4190       4458       4396        0   \n",
       "Knaganishii           4701          4012       4270       4824     4417   \n",
       "Lkluyveri             4505          4270       4551       4477     4737   \n",
       "Lthermotolerans       4439          4186       4468       4401     4639   \n",
       "Lwaltii               4406          4145       4415       4360     4606   \n",
       "Ncastallii            4789          4069       4332       4861     4478   \n",
       "Ndairenensis          4731          4042       4299       4806     4428   \n",
       "Scerevisiae           4843          4094       4358       4849     4501   \n",
       "Skudriavzevii         4830          4085       4348       4833     4481   \n",
       "Smikitae              4831          4086       4351       4843     4488   \n",
       "Suvarum               4831          4086       4351       4843     4488   \n",
       "Tblattae              4527          3953       4207       4521     4309   \n",
       "Tdelbrueckii          4466          4115       4386       4431     4532   \n",
       "Tphaffii              4618          4034       4298       4599     4412   \n",
       "Vpolyspora            4609          4036       4297       4600     4424   \n",
       "Zrouxii               4468          4137       4409       4433     4564   \n",
       "\n",
       "                 Knaganishii  Lkluyveri  Lthermotolerans  Lwaltii  Ncastallii  \\\n",
       "Cglabrata               4701       4505             4439     4406        4789   \n",
       "Ecymbalariae            4012       4270             4186     4145        4069   \n",
       "Egossypii               4270       4551             4468     4415        4332   \n",
       "Kafricana               4824       4477             4401     4360        4861   \n",
       "Klactis                 4417       4737             4639     4606        4478   \n",
       "Knaganishii              457       4493             4420     4378        4871   \n",
       "Lkluyveri               4493          0             4787     4724        4560   \n",
       "Lthermotolerans         4420       4787                0     4794        4488   \n",
       "Lwaltii                 4378       4724             4794        0        4444   \n",
       "Ncastallii              4871       4560             4488     4444         596   \n",
       "Ndairenensis            4802       4512             4439     4396        5108   \n",
       "Scerevisiae             4835       4597             4527     4490        4990   \n",
       "Skudriavzevii           4817       4583             4510     4476        4962   \n",
       "Smikitae                4830       4588             4515     4475        4970   \n",
       "Suvarum                 4830       4588             4515     4475        4970   \n",
       "Tblattae                4499       4381             4315     4277        4595   \n",
       "Tdelbrueckii            4445       4647             4578     4532        4507   \n",
       "Tphaffii                4593       4497             4429     4388        4683   \n",
       "Vpolyspora              4584       4506             4436     4392        4693   \n",
       "Zrouxii                 4449       4677             4599     4552        4512   \n",
       "\n",
       "                 Ndairenensis  Scerevisiae  Skudriavzevii  Smikitae  Suvarum  \\\n",
       "Cglabrata                4731         4843           4830      4831     4831   \n",
       "Ecymbalariae             4042         4094           4085      4086     4086   \n",
       "Egossypii                4299         4358           4348      4351     4351   \n",
       "Kafricana                4806         4849           4833      4843     4843   \n",
       "Klactis                  4428         4501           4481      4488     4488   \n",
       "Knaganishii              4802         4835           4817      4830     4830   \n",
       "Lkluyveri                4512         4597           4583      4588     4588   \n",
       "Lthermotolerans          4439         4527           4510      4515     4515   \n",
       "Lwaltii                  4396         4490           4476      4475     4475   \n",
       "Ncastallii               5108         4990           4962      4970     4970   \n",
       "Ndairenensis              549         4901           4879      4887     4887   \n",
       "Scerevisiae              4901          547           5362      5358     5358   \n",
       "Skudriavzevii            4879         5362            546      5388     5388   \n",
       "Smikitae                 4887         5358           5388       545      545   \n",
       "Suvarum                  4887         5358           5388       545      545   \n",
       "Tblattae                 4545         4596           4580      4587     4587   \n",
       "Tdelbrueckii             4464         4539           4525      4530     4530   \n",
       "Tphaffii                 4641         4693           4676      4688     4688   \n",
       "Vpolyspora               4650         4704           4681      4695     4695   \n",
       "Zrouxii                  4465         4551           4536      4542     4542   \n",
       "\n",
       "                 Tblattae  Tdelbrueckii  Tphaffii  Vpolyspora  Zrouxii  \n",
       "Cglabrata            4527          4466      4618        4609     4468  \n",
       "Ecymbalariae         3953          4115      4034        4036     4137  \n",
       "Egossypii            4207          4386      4298        4297     4409  \n",
       "Kafricana            4521          4431      4599        4600     4433  \n",
       "Klactis              4309          4532      4412        4424     4564  \n",
       "Knaganishii          4499          4445      4593        4584     4449  \n",
       "Lkluyveri            4381          4647      4497        4506     4677  \n",
       "Lthermotolerans      4315          4578      4429        4436     4599  \n",
       "Lwaltii              4277          4532      4388        4392     4552  \n",
       "Ncastallii           4595          4507      4683        4693     4512  \n",
       "Ndairenensis         4545          4464      4641        4650     4465  \n",
       "Scerevisiae          4596          4539      4693        4704     4551  \n",
       "Skudriavzevii        4580          4525      4676        4681     4536  \n",
       "Smikitae             4587          4530      4688        4695     4542  \n",
       "Suvarum              4587          4530      4688        4695     4542  \n",
       "Tblattae              481          4338      4562        4562     4345  \n",
       "Tdelbrueckii         4338             0      4458        4459     4623  \n",
       "Tphaffii             4562          4458       454        4846     4463  \n",
       "Vpolyspora           4562          4459      4846         495     4475  \n",
       "Zrouxii              4345          4623      4463        4475        0  "
      ]
     },
     "execution_count": 81,
     "metadata": {},
     "output_type": "execute_result"
    }
   ],
   "source": [
    "data = f.match_matrix(species,pillars)\n",
    " \n",
    "df = pd.DataFrame(data, index=specie_names)\n",
    " \n",
    "df"
   ]
  },
  {
   "cell_type": "markdown",
   "id": "d3a2e8de",
   "metadata": {},
   "source": [
    "The following is an example of how the group_pairs function can take in a list of species and return the number of pairs that would be in a reconcilled family assignment. The line bellow it is a verification using the above table to manually calculate the sum."
   ]
  },
  {
   "cell_type": "code",
   "execution_count": 82,
   "id": "f40005df",
   "metadata": {},
   "outputs": [
    {
     "data": {
      "text/plain": [
       "14451"
      ]
     },
     "execution_count": 82,
     "metadata": {},
     "output_type": "execute_result"
    }
   ],
   "source": [
    "f.group_pairs([Scerevisiae, Smikitae, Zrouxii],pillars)"
   ]
  },
  {
   "cell_type": "code",
   "execution_count": 83,
   "id": "72e1d20c",
   "metadata": {},
   "outputs": [
    {
     "data": {
      "text/plain": [
       "14451"
      ]
     },
     "execution_count": 83,
     "metadata": {},
     "output_type": "execute_result"
    }
   ],
   "source": [
    "5358+4551+4542"
   ]
  },
  {
   "cell_type": "code",
   "execution_count": 89,
   "id": "54551940",
   "metadata": {},
   "outputs": [
    {
     "data": {
      "image/png": "[encoded data removed]",
      "text/plain": [
       "<Figure size 432x288 with 1 Axes>"
      ]
     },
     "metadata": {
      "needs_background": "light"
     },
     "output_type": "display_data"
    }
   ],
   "source": [
    "all_keep_genes=f.pillar_resort(species_keep,pillars,1)\n",
    "lengths=f.family_lengths(all_keep_genes)\n",
    "remaining_genes=[0]*20\n",
    "for i in range(1,21):\n",
    "    remaining_genes[i-1]=sum(j*lengths[j-1] for j in range(i,21))\n",
    "\n",
    "fig, ax=matplotlib.pyplot.subplots()\n",
    "bar=ax.bar(list(range(1,21)),remaining_genes)\n",
    "ax.set_xticks(list(range(1,21)));\n",
    "ax.set_xlabel(\"Total number of genes remaining\");\n",
    "ax.set_ylabel(\"Minimum family size\");\n",
    "ax.set_title(\"Distribution of total genes remaining against the minimum size of families kept\");\n",
    "\n",
    "\n"
   ]
  },
  {
   "cell_type": "code",
   "execution_count": 88,
   "id": "8b6e22f9",
   "metadata": {},
   "outputs": [
    {
     "data": {
      "text/plain": [
       "'Done'"
      ]
     },
     "execution_count": 88,
     "metadata": {},
     "output_type": "execute_result"
    }
   ],
   "source": [
    "f.gene_species_mapping(species_keep)"
   ]
  },
  {
   "cell_type": "code",
   "execution_count": 64,
   "id": "c3f2f069",
   "metadata": {},
   "outputs": [],
   "source": []
  },
  {
   "cell_type": "code",
   "execution_count": null,
   "id": "5ebdd65a",
   "metadata": {},
   "outputs": [],
   "source": []
  }
 ],
 "metadata": {
  "kernelspec": {
   "display_name": "Python 3 (ipykernel)",
   "language": "python",
   "name": "python3"
  },
  "language_info": {
   "codemirror_mode": {
    "name": "ipython",
    "version": 3
   },
   "file_extension": ".py",
   "mimetype": "text/x-python",
   "name": "python",
   "nbconvert_exporter": "python",
   "pygments_lexer": "ipython3",
   "version": "3.10.5"
  }
 },
 "nbformat": 4,
 "nbformat_minor": 5
}
