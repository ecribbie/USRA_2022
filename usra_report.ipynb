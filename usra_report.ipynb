{
 "cells": [
  {
   "cell_type": "markdown",
   "id": "8af0a455",
   "metadata": {},
   "source": [
    "# USRA REPORT (Reconstruction of Ancestral Genomes)\n",
    "Evan Cribbie\n",
    "\n",
    "Under Supervision of Dr. Cedric Chauve\n",
    "\n",
    "Summer 2022"
   ]
  },
  {
   "cell_type": "markdown",
   "id": "343503fb",
   "metadata": {},
   "source": [
    "## Background\n",
    "This project had for topic the reconstruction of ancestral genomes. This entailed working on genetic data, species' gene sequences and their corresponding species phylogeny. For this project the Yeast Gene Order Browser (YGOB) data was used as it is a widely used resource, however it is important to note that these methods apply to a wide variety of data sets and are not limited to the YGOB data. \n",
    "\n",
    "##### Explain the problem and details here \n",
    "\n"
   ]
  },
  {
   "cell_type": "markdown",
   "id": "03a2f042",
   "metadata": {},
   "source": [
    "## Protocol\n",
    "\n",
    "#### YGOB Overview\n",
    "The data used for this project come from the Yeast Gene Order Browser (YGOB) website (version 7 August 2012 release, latest version as of August 2022). The YGOB contains gene orders, as well as each genes Nucleotide and Amino-Acid sequences, for 20 different species of yeast as well as the phylogeny for these yeast species.\n",
    "\n",
    "#### Data Exploration\n",
    "The YGOB data was explored in order to get a better understanding of the data at hand. From here we decided to keep 15 of the 20 species, seeing as the other 5 species had their gene orders less well put together. We also decided to remove gene families with less than 3 genes in them as these families are superfluous. \n",
    "\n",
    "#### Gene Sequence Alignment\n",
    "In order to test the robustness of our method we decided to use two different sequence alignment methods. We aligned the genes amino-acid sequences in each family using MUSCLE, and the genes nucleotide sequences using MACSE.\n",
    "\n",
    "#### Reconciled Gene Tree Inference\n",
    "In order to create reconciled gene tree inferences for each family we used GENERAX. This allowed us to create reconciled gene trees for each family that included gene losses and duplications.\n",
    "\n",
    "#### Problem with DeCoSTAR\n",
    "We intended to use DeCoSTAR in order to turn the reconciled gene trees into probabilistic adjacencies, however DeCoSTAR was not functionning properly for reconciled xml input. Despite several attempts to resolve the issue nothing worked and we therefore ended up using a different software to complete this.\n",
    "\n",
    "#### DeClone\n",
    "We decided to use DeClone in order to get ancestral adjacencies with their corresponding probabilistic weights."
   ]
  },
  {
   "cell_type": "code",
   "execution_count": null,
   "id": "ce4a0234",
   "metadata": {},
   "outputs": [],
   "source": []
  }
 ],
 "metadata": {
  "kernelspec": {
   "display_name": "Python 3 (ipykernel)",
   "language": "python",
   "name": "python3"
  },
  "language_info": {
   "codemirror_mode": {
    "name": "ipython",
    "version": 3
   },
   "file_extension": ".py",
   "mimetype": "text/x-python",
   "name": "python",
   "nbconvert_exporter": "python",
   "pygments_lexer": "ipython3",
   "version": "3.10.6"
  }
 },
 "nbformat": 4,
 "nbformat_minor": 5
}
