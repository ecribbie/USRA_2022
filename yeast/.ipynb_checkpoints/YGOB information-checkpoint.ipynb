{
 "cells": [
  {
   "cell_type": "markdown",
   "id": "a24d30d0",
   "metadata": {},
   "source": [
    "# # Yeast Gene Order Browser\n",
    "# Overview\n",
    "Link to website:ygob.ucd.ie/ygob/\n",
    "First created a python file to take a species genome tab file and convert it inte a nested dictionary containig its genes and relevant information \"ygob_conversion.py\"\n",
    "\n",
    "The species files can be found at:ygob.ucd.ie/ygob/data/v7-Aug2012/\n",
    "The ygob_conversion.py currently takes all files with structure as described in README file:ygob.ucd.ie/ygob/data/v7-Aug2012/README section (2) Ancestor genome tab to be done seperatly\n",
    "\n",
    "\n",
    "# Questions\n",
    "-in the genome.tab files found at:ygob.ucd.ie/ygob/data/v7-Aug2012/ such as:ygob.ucd.ie/ygob/data/v7-Aug2012/Cglabrata_genome.tab the 9th colomn discusses the genes similarities with other genes in different species. It uses various levels of similarity; similar to, weakly similar to, highly similar to, syntenic homolog of, etc.\n",
    "\n",
    "When creating marker assignments for these species if a gene in one species is similar to a gene in another species would we assign both of these the same marker (example call them both gene 1), assuming for simplicity that these genes are not similar to others? If so whcih of these terms above would imply using the same marker? All of them?"
   ]
  }
 ],
 "metadata": {
  "kernelspec": {
   "display_name": "Python 3 (ipykernel)",
   "language": "python",
   "name": "python3"
  },
  "language_info": {
   "codemirror_mode": {
    "name": "ipython",
    "version": 3
   },
   "file_extension": ".py",
   "mimetype": "text/x-python",
   "name": "python",
   "nbconvert_exporter": "python",
   "pygments_lexer": "ipython3",
   "version": "3.10.4"
  }
 },
 "nbformat": 4,
 "nbformat_minor": 5
}
